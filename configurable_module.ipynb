{
  "nbformat": 4,
  "nbformat_minor": 0,
  "metadata": {
    "colab": {
      "provenance": []
    },
    "kernelspec": {
      "name": "python3",
      "display_name": "Python 3"
    },
    "language_info": {
      "name": "python"
    }
  },
  "cells": [
    {
      "cell_type": "code",
      "execution_count": null,
      "metadata": {
        "colab": {
          "base_uri": "https://localhost:8080/"
        },
        "id": "m2rEGTvI57CA",
        "outputId": "4e0ed389-6fb7-42d7-9483-0f1f013aba80"
      },
      "outputs": [
        {
          "output_type": "stream",
          "name": "stdout",
          "text": [
            "Overwriting config.py\n"
          ]
        }
      ],
      "source": [
        "#create a configurable file\n",
        "%%writefile config.py\n",
        "\n",
        "class Config:\n",
        "  DEBUG = False\n",
        "  TESTING = False\n",
        "  DATABASE_URI = 'sqlite:///:memory:'\n",
        "  LOG_LEVEL = 'DEBUG'\n",
        "  LOG_FILE_PATH = 'app.log'\n",
        "  SECRET_KEY = 'mysecretkey'\n",
        "  SECRET_COOKIES = 'mysecretcookies'\n",
        "  API_ENDPOINT = 'https://api.example.com'\n",
        "\n",
        "class ProductionConfig(Config):\n",
        "  DATABASE_URI = 'mysql://user@localhost/foo'\n",
        "  LOG_LEVEL = 'INFO'\n",
        "  LOG_FILE_PATH = 'app.log'\n",
        "  SECRET_KEY = 'mysecretkey-prod'\n",
        "  SECRET_COOKIES = 'mysecretcookies'\n",
        "  API_ENDPOINT = 'https://api.example.com'\n",
        "\n",
        "class DevelopmentConfig(Config):\n",
        "  DEBUG = True\n",
        "  LOG_LEVEL = 'INFO'\n",
        "  LOG_FILE_PATH = 'app.log'\n",
        "  SECRET_KEY = 'mysecretkey-dev'\n",
        "  SECRET_COOKIES = 'mysecretcookies'\n",
        "  API_ENDPOINT = 'https://api.example.com'\n",
        "\n",
        "class TestingConfig(Config):\n",
        "  TESTING = True\n",
        "  LOG_LEVEL = 'INFO'\n",
        "  LOG_FILE_PATH = 'app.log'\n",
        "  SECRET_KEY = 'mysecretkey-test'\n",
        "  SECRET_COOKIES = 'mysecretcookies'\n",
        "  API_ENDPOINT = 'https://api.example.com'\n"
      ]
    },
    {
      "cell_type": "code",
      "source": [
        "# main application file-->\n",
        "\n",
        "# Create the main application file named app.py\n",
        "%%writefile app.py\n",
        "\n",
        "import os\n",
        "from config import DevelopmentConfig, ProductionConfig, TestingConfig\n",
        "\n",
        "def run_app():\n",
        "    env = os.getenv('ENV', 'development')\n",
        "\n",
        "    if env == 'development':\n",
        "        config = DevelopmentConfig()\n",
        "    elif env == 'production':\n",
        "        config = ProductionConfig()\n",
        "    elif env == 'testing':\n",
        "        config = TestingConfig()\n",
        "    else:\n",
        "        raise ValueError(\"Invalid environment name\")\n",
        "\n",
        "    print(f\"Running in {env} environment\")\n",
        "    print(f\"DEBUG: {config.DEBUG}\")\n",
        "    print(f\"TESTING: {config.TESTING}\")\n",
        "    print(f\"DATABASE_URI: {config.DATABASE_URI}\")\n",
        "    print(f\"LOG_LEVEL: {config.LOG_LEVEL}\")\n",
        "    print(f\"LOG_FILE_PATH: {config.LOG_FILE_PATH}\")\n",
        "    print(f\"SECRET_KEY: {config.SECRET_KEY}\")\n",
        "    print(f\"SECRET_COOKIES: {config.SECRET_COOKIES}\")\n",
        "    print(f\"API_ENDPOINT: {config.API_ENDPOINT}\")\n",
        "\n",
        "if __name__ == \"__main__\":\n",
        "    run_app()\n"
      ],
      "metadata": {
        "colab": {
          "base_uri": "https://localhost:8080/"
        },
        "id": "bpVOhsgw85FN",
        "outputId": "112146c0-ee98-4afc-b607-db524257ece4"
      },
      "execution_count": null,
      "outputs": [
        {
          "output_type": "stream",
          "name": "stdout",
          "text": [
            "Overwriting app.py\n"
          ]
        }
      ]
    },
    {
      "cell_type": "code",
      "source": [
        "# Set environment variable to production and run the app\n",
        "import os\n",
        "os.environ['ENV'] = 'production'\n",
        "!python app.py\n",
        "\n"
      ],
      "metadata": {
        "id": "ZJrQKyZX9cEk",
        "colab": {
          "base_uri": "https://localhost:8080/"
        },
        "outputId": "ec91b675-9884-4789-a817-d1b777fe69f9"
      },
      "execution_count": null,
      "outputs": [
        {
          "output_type": "stream",
          "name": "stdout",
          "text": [
            "Running in production environment\n",
            "DEBUG: False\n",
            "TESTING: False\n",
            "DATABASE_URI: mysql://user@localhost/foo\n",
            "LOG_LEVEL: INFO\n",
            "LOG_FILE_PATH: app.log\n",
            "SECRET_KEY: mysecretkey-prod\n",
            "SECRET_COOKIES: mysecretcookies\n",
            "API_ENDPOINT: https://api.example.com\n"
          ]
        }
      ]
    },
    {
      "cell_type": "code",
      "source": [
        "Task: Add new configurations to the existing config.py file to handle the following:\n",
        "\n",
        "Logging settings: Add LOG_LEVEL and LOG_FILE_PATH for different environments.\n",
        "Security settings: Add SECRET_KEY and SECURE_COOKIES to manage security across different environments.\n",
        "Environment-specific API endpoint: Add API_ENDPOINT that changes depending on the environment (e.g., different URLs for development, testing, and production).\n",
        "\n",
        "\n",
        "# 09:33--> 09:47--working break"
      ],
      "metadata": {
        "id": "wg4COvWJBD-N"
      },
      "execution_count": null,
      "outputs": []
    },
    {
      "cell_type": "code",
      "source": [
        "# config.yaml\n",
        "%%writefile config.yaml\n",
        "# General settings\n",
        "app:\n",
        "  name: \"mlops-app\"\n",
        "  version: \"1.0.0\"\n",
        "  environment: \"production\"  # Options: development, testing, production\n",
        "\n",
        "# Data settings\n",
        "data:\n",
        "  raw_data_path: \"s3://mybucket/raw-data/\"\n",
        "  processed_data_path: \"s3://mybucket/processed-data/\"\n",
        "  batch_size: 64\n",
        "  shuffle: true\n",
        "  validation_split: 0.2\n",
        "\n",
        "# Model settings\n",
        "model:\n",
        "  type: \"DecisionTree\"\n",
        "  parameters:\n",
        "    n_estimators: 100\n",
        "    max_depth: 10\n",
        "    random_state: 42\n",
        "\n",
        "  # Path to save the trained model\n",
        "  save_path: \"s3://mybucket/models/random_forest.pkl\"\n",
        "\n",
        "# Training settings\n",
        "training:\n",
        "  epochs: 50\n",
        "  learning_rate: 0.001\n",
        "  optimizer: \"adam\"\n",
        "  loss_function: \"cross_entropy\"\n",
        "  early_stopping:\n",
        "    patience: 10\n",
        "    min_delta: 0.001\n",
        "\n",
        "# Evaluation settings\n",
        "evaluation:\n",
        "  metrics:\n",
        "    - \"accuracy\"\n",
        "    - \"precision\"\n",
        "    - \"recall\"\n",
        "  test_data_path: \"s3://mybucket/test-data/\"\n",
        "\n",
        "# Logging settings\n",
        "logging:\n",
        "  level: \"INFO\"  # Options: DEBUG, INFO, WARNING, ERROR, CRITICAL\n",
        "  log_file_path: \"logs/training.log\"\n",
        "\n",
        "# Deployment settings\n",
        "deployment:\n",
        "  model_registry_url: \"http://model-registry.internal/api/v1/models\"\n",
        "  deployment_type: \"docker\"  # Options: docker, kubernetes\n",
        "  docker:\n",
        "    image_name: \"mlops-app-image\"\n",
        "    container_name: \"mlops-app-container\"\n",
        "    ports:\n",
        "      - \"5000:5000\"\n",
        "  kubernetes:\n",
        "    namespace: \"production\"\n",
        "    replicas: 3\n",
        "    resources:\n",
        "      limits:\n",
        "        cpu: \"2\"\n",
        "        memory: \"4Gi\"\n",
        "      requests:\n",
        "        cpu: \"1\"\n",
        "        memory: \"2Gi\"\n",
        "\n",
        "# Monitoring settings\n",
        "monitoring:\n",
        "  enable: true\n",
        "  monitoring_service_url: \"http://monitoring-service.internal/api/v1/metrics\"\n",
        "  alerting_thresholds:\n",
        "    accuracy: 0.85\n",
        "    latency: 200  # in milliseconds\n",
        "\n",
        "# Security settings\n",
        "security:\n",
        "  use_https: true\n",
        "  certificate_path: \"/etc/ssl/certs/mycert.pem\"\n",
        "  key_path: \"/etc/ssl/private/mykey.pem\"\n",
        "  environment_variables:\n",
        "    - name: \"AWS_ACCESS_KEY_ID\"\n",
        "      value: \"your-aws-access-key\"\n",
        "    - name: \"AWS_SECRET_ACCESS_KEY\"\n",
        "      value: \"your-aws-secret-key\"\n"
      ],
      "metadata": {
        "colab": {
          "base_uri": "https://localhost:8080/"
        },
        "id": "T3dcQNa3GOek",
        "outputId": "96e9b4b4-dd93-40bb-b597-3039ba505e8f"
      },
      "execution_count": null,
      "outputs": [
        {
          "output_type": "stream",
          "name": "stdout",
          "text": [
            "Overwriting config.yaml\n"
          ]
        }
      ]
    },
    {
      "cell_type": "code",
      "source": [
        "import yaml\n",
        "\n",
        "with open(\"config.yaml\", 'r') as config_file:\n",
        "    config = yaml.safe_load(config_file)\n",
        "\n",
        "print(config['model']['type'])  # Outputs: RandomForest\n"
      ],
      "metadata": {
        "colab": {
          "base_uri": "https://localhost:8080/"
        },
        "id": "XuHIh0soHMqT",
        "outputId": "31c8efe0-0e4d-4bd5-afc4-5a8487f4d665"
      },
      "execution_count": null,
      "outputs": [
        {
          "output_type": "stream",
          "name": "stdout",
          "text": [
            "DecisionTree\n"
          ]
        }
      ]
    },
    {
      "cell_type": "code",
      "source": [
        "# requiremnts file ?"
      ],
      "metadata": {
        "id": "anIN6L4CISFi"
      },
      "execution_count": null,
      "outputs": []
    },
    {
      "cell_type": "code",
      "source": [
        "# whenver you create a machine learning model. you will require all the necessary packages/librariries\n",
        "\n",
        "#in order to development, testing or to production\n",
        "\n",
        "# development on pandas\n",
        "\n",
        "# system--> production code--> pandas error--> either the pandas --.is not installed\n",
        "# version of pandas is different\n",
        "\n",
        "# developer-->"
      ],
      "metadata": {
        "id": "-5Zq8o77JxRZ"
      },
      "execution_count": null,
      "outputs": []
    },
    {
      "cell_type": "code",
      "source": [
        "!touch requirements.txt"
      ],
      "metadata": {
        "id": "4wREV9V-KlJy"
      },
      "execution_count": null,
      "outputs": []
    },
    {
      "cell_type": "code",
      "source": [
        "!pip install pandas numpy matplotlib"
      ],
      "metadata": {
        "colab": {
          "base_uri": "https://localhost:8080/"
        },
        "id": "_fCwAn50LN7r",
        "outputId": "5c62ddd7-7d19-4e2b-d2b3-ce368c61c3c8"
      },
      "execution_count": null,
      "outputs": [
        {
          "output_type": "stream",
          "name": "stdout",
          "text": [
            "Requirement already satisfied: pandas in /usr/local/lib/python3.10/dist-packages (2.1.4)\n",
            "Requirement already satisfied: numpy in /usr/local/lib/python3.10/dist-packages (1.26.4)\n",
            "Requirement already satisfied: matplotlib in /usr/local/lib/python3.10/dist-packages (3.7.1)\n",
            "Requirement already satisfied: python-dateutil>=2.8.2 in /usr/local/lib/python3.10/dist-packages (from pandas) (2.8.2)\n",
            "Requirement already satisfied: pytz>=2020.1 in /usr/local/lib/python3.10/dist-packages (from pandas) (2024.1)\n",
            "Requirement already satisfied: tzdata>=2022.1 in /usr/local/lib/python3.10/dist-packages (from pandas) (2024.1)\n",
            "Requirement already satisfied: contourpy>=1.0.1 in /usr/local/lib/python3.10/dist-packages (from matplotlib) (1.2.1)\n",
            "Requirement already satisfied: cycler>=0.10 in /usr/local/lib/python3.10/dist-packages (from matplotlib) (0.12.1)\n",
            "Requirement already satisfied: fonttools>=4.22.0 in /usr/local/lib/python3.10/dist-packages (from matplotlib) (4.53.1)\n",
            "Requirement already satisfied: kiwisolver>=1.0.1 in /usr/local/lib/python3.10/dist-packages (from matplotlib) (1.4.5)\n",
            "Requirement already satisfied: packaging>=20.0 in /usr/local/lib/python3.10/dist-packages (from matplotlib) (24.1)\n",
            "Requirement already satisfied: pillow>=6.2.0 in /usr/local/lib/python3.10/dist-packages (from matplotlib) (9.4.0)\n",
            "Requirement already satisfied: pyparsing>=2.3.1 in /usr/local/lib/python3.10/dist-packages (from matplotlib) (3.1.2)\n",
            "Requirement already satisfied: six>=1.5 in /usr/local/lib/python3.10/dist-packages (from python-dateutil>=2.8.2->pandas) (1.16.0)\n"
          ]
        }
      ]
    },
    {
      "cell_type": "code",
      "source": [
        "!pip install -r requirements.txt"
      ],
      "metadata": {
        "colab": {
          "base_uri": "https://localhost:8080/"
        },
        "id": "pb2pUk3kK3xu",
        "outputId": "0c084277-d9a4-4e33-b065-e3738e6ebc3f"
      },
      "execution_count": null,
      "outputs": [
        {
          "output_type": "stream",
          "name": "stdout",
          "text": [
            "Requirement already satisfied: pandas in /usr/local/lib/python3.10/dist-packages (from -r requirements.txt (line 1)) (2.1.4)\n",
            "Requirement already satisfied: numpy in /usr/local/lib/python3.10/dist-packages (from -r requirements.txt (line 2)) (1.26.4)\n",
            "Requirement already satisfied: matplotlib in /usr/local/lib/python3.10/dist-packages (from -r requirements.txt (line 3)) (3.7.1)\n",
            "Requirement already satisfied: python-dateutil>=2.8.2 in /usr/local/lib/python3.10/dist-packages (from pandas->-r requirements.txt (line 1)) (2.8.2)\n",
            "Requirement already satisfied: pytz>=2020.1 in /usr/local/lib/python3.10/dist-packages (from pandas->-r requirements.txt (line 1)) (2024.1)\n",
            "Requirement already satisfied: tzdata>=2022.1 in /usr/local/lib/python3.10/dist-packages (from pandas->-r requirements.txt (line 1)) (2024.1)\n",
            "Requirement already satisfied: contourpy>=1.0.1 in /usr/local/lib/python3.10/dist-packages (from matplotlib->-r requirements.txt (line 3)) (1.2.1)\n",
            "Requirement already satisfied: cycler>=0.10 in /usr/local/lib/python3.10/dist-packages (from matplotlib->-r requirements.txt (line 3)) (0.12.1)\n",
            "Requirement already satisfied: fonttools>=4.22.0 in /usr/local/lib/python3.10/dist-packages (from matplotlib->-r requirements.txt (line 3)) (4.53.1)\n",
            "Requirement already satisfied: kiwisolver>=1.0.1 in /usr/local/lib/python3.10/dist-packages (from matplotlib->-r requirements.txt (line 3)) (1.4.5)\n",
            "Requirement already satisfied: packaging>=20.0 in /usr/local/lib/python3.10/dist-packages (from matplotlib->-r requirements.txt (line 3)) (24.1)\n",
            "Requirement already satisfied: pillow>=6.2.0 in /usr/local/lib/python3.10/dist-packages (from matplotlib->-r requirements.txt (line 3)) (9.4.0)\n",
            "Requirement already satisfied: pyparsing>=2.3.1 in /usr/local/lib/python3.10/dist-packages (from matplotlib->-r requirements.txt (line 3)) (3.1.2)\n",
            "Requirement already satisfied: six>=1.5 in /usr/local/lib/python3.10/dist-packages (from python-dateutil>=2.8.2->pandas->-r requirements.txt (line 1)) (1.16.0)\n"
          ]
        }
      ]
    },
    {
      "cell_type": "code",
      "source": [
        "# third way to create dependencies\n",
        "\n",
        "# Generate the requirements.txt file automatically\n",
        "!pip freeze > requirements1.txt"
      ],
      "metadata": {
        "id": "BN2-nbY8MNpo"
      },
      "execution_count": null,
      "outputs": []
    },
    {
      "cell_type": "code",
      "source": [
        "#requirement file which contains requests  = 2.26 SQLAlchemy --> 1.4.22\n",
        "\n",
        "# i want to install it\n",
        "\n",
        "# requirments --> install me -->\n",
        "\n",
        "#10:22--> 10:25\n",
        "\n",
        "# Manually add dependencies to requirements.txt\n",
        "%%writefile requirements3.txt\n",
        "requests==2.26.0\n",
        "SQLAlchemy==1.4.22\n"
      ],
      "metadata": {
        "colab": {
          "base_uri": "https://localhost:8080/"
        },
        "id": "tOTCPyDAMyaZ",
        "outputId": "1e35d364-63e3-46cf-8b52-0b3f0e1195e3"
      },
      "execution_count": null,
      "outputs": [
        {
          "output_type": "stream",
          "name": "stdout",
          "text": [
            "Writing requirements3.txt\n"
          ]
        }
      ]
    },
    {
      "cell_type": "code",
      "source": [
        "!pip install -r requirements3.txt"
      ],
      "metadata": {
        "colab": {
          "base_uri": "https://localhost:8080/"
        },
        "id": "EW-mRa-sOWxl",
        "outputId": "28757cee-dedb-4912-f92a-8fa88bbef189"
      },
      "execution_count": null,
      "outputs": [
        {
          "output_type": "stream",
          "name": "stdout",
          "text": [
            "Collecting requests==2.26.0 (from -r requirements3.txt (line 1))\n",
            "  Downloading requests-2.26.0-py2.py3-none-any.whl.metadata (4.8 kB)\n",
            "Collecting SQLAlchemy==1.4.22 (from -r requirements3.txt (line 2))\n",
            "  Downloading SQLAlchemy-1.4.22.tar.gz (7.7 MB)\n",
            "\u001b[2K     \u001b[90m━━━━━━━━━━━━━━━━━━━━━━━━━━━━━━━━━━━━━━━━\u001b[0m \u001b[32m7.7/7.7 MB\u001b[0m \u001b[31m21.5 MB/s\u001b[0m eta \u001b[36m0:00:00\u001b[0m\n",
            "\u001b[?25h  Preparing metadata (setup.py) ... \u001b[?25l\u001b[?25hdone\n",
            "Collecting urllib3<1.27,>=1.21.1 (from requests==2.26.0->-r requirements3.txt (line 1))\n",
            "  Downloading urllib3-1.26.19-py2.py3-none-any.whl.metadata (49 kB)\n",
            "\u001b[2K     \u001b[90m━━━━━━━━━━━━━━━━━━━━━━━━━━━━━━━━━━━━━━━━\u001b[0m \u001b[32m49.3/49.3 kB\u001b[0m \u001b[31m2.6 MB/s\u001b[0m eta \u001b[36m0:00:00\u001b[0m\n",
            "\u001b[?25hRequirement already satisfied: certifi>=2017.4.17 in /usr/local/lib/python3.10/dist-packages (from requests==2.26.0->-r requirements3.txt (line 1)) (2024.7.4)\n",
            "Collecting charset-normalizer~=2.0.0 (from requests==2.26.0->-r requirements3.txt (line 1))\n",
            "  Downloading charset_normalizer-2.0.12-py3-none-any.whl.metadata (11 kB)\n",
            "Requirement already satisfied: idna<4,>=2.5 in /usr/local/lib/python3.10/dist-packages (from requests==2.26.0->-r requirements3.txt (line 1)) (3.7)\n",
            "Requirement already satisfied: greenlet!=0.4.17 in /usr/local/lib/python3.10/dist-packages (from SQLAlchemy==1.4.22->-r requirements3.txt (line 2)) (3.0.3)\n",
            "Downloading requests-2.26.0-py2.py3-none-any.whl (62 kB)\n",
            "\u001b[2K   \u001b[90m━━━━━━━━━━━━━━━━━━━━━━━━━━━━━━━━━━━━━━━━\u001b[0m \u001b[32m62.3/62.3 kB\u001b[0m \u001b[31m3.6 MB/s\u001b[0m eta \u001b[36m0:00:00\u001b[0m\n",
            "\u001b[?25hDownloading charset_normalizer-2.0.12-py3-none-any.whl (39 kB)\n",
            "Downloading urllib3-1.26.19-py2.py3-none-any.whl (143 kB)\n",
            "\u001b[2K   \u001b[90m━━━━━━━━━━━━━━━━━━━━━━━━━━━━━━━━━━━━━━━━\u001b[0m \u001b[32m143.9/143.9 kB\u001b[0m \u001b[31m9.0 MB/s\u001b[0m eta \u001b[36m0:00:00\u001b[0m\n",
            "\u001b[?25hBuilding wheels for collected packages: SQLAlchemy\n",
            "  Building wheel for SQLAlchemy (setup.py) ... \u001b[?25l\u001b[?25hdone\n",
            "  Created wheel for SQLAlchemy: filename=SQLAlchemy-1.4.22-cp310-cp310-linux_x86_64.whl size=1535415 sha256=db50d5a74394ebd6a577422fca7d981e4e191be0292325fb13f897d7b2e8f8ce\n",
            "  Stored in directory: /root/.cache/pip/wheels/ee/be/eb/783765f5d628cdd4a8d747effc243d95b2b3eccf43857ad5b3\n",
            "Successfully built SQLAlchemy\n",
            "Installing collected packages: urllib3, SQLAlchemy, charset-normalizer, requests\n",
            "  Attempting uninstall: urllib3\n",
            "    Found existing installation: urllib3 2.0.7\n",
            "    Uninstalling urllib3-2.0.7:\n",
            "      Successfully uninstalled urllib3-2.0.7\n",
            "  Attempting uninstall: SQLAlchemy\n",
            "    Found existing installation: SQLAlchemy 2.0.32\n",
            "    Uninstalling SQLAlchemy-2.0.32:\n",
            "      Successfully uninstalled SQLAlchemy-2.0.32\n",
            "  Attempting uninstall: charset-normalizer\n",
            "    Found existing installation: charset-normalizer 3.3.2\n",
            "    Uninstalling charset-normalizer-3.3.2:\n",
            "      Successfully uninstalled charset-normalizer-3.3.2\n",
            "  Attempting uninstall: requests\n",
            "    Found existing installation: requests 2.32.3\n",
            "    Uninstalling requests-2.32.3:\n",
            "      Successfully uninstalled requests-2.32.3\n",
            "\u001b[31mERROR: pip's dependency resolver does not currently take into account all the packages that are installed. This behaviour is the source of the following dependency conflicts.\n",
            "bigframes 1.13.0 requires requests>=2.27.1, but you have requests 2.26.0 which is incompatible.\n",
            "google-colab 1.0.0 requires requests==2.32.3, but you have requests 2.26.0 which is incompatible.\n",
            "ipython-sql 0.5.0 requires sqlalchemy>=2.0, but you have sqlalchemy 1.4.22 which is incompatible.\n",
            "tweepy 4.14.0 requires requests<3,>=2.27.0, but you have requests 2.26.0 which is incompatible.\n",
            "yfinance 0.2.41 requires requests>=2.31, but you have requests 2.26.0 which is incompatible.\u001b[0m\u001b[31m\n",
            "\u001b[0mSuccessfully installed SQLAlchemy-1.4.22 charset-normalizer-2.0.12 requests-2.26.0 urllib3-1.26.19\n"
          ]
        }
      ]
    },
    {
      "cell_type": "code",
      "source": [
        "# virtual environment\n",
        "\n",
        "# venv--> default python package\n",
        "#virutalenv\n",
        "# colab--> the notebook--> your notebook\n",
        "\n"
      ],
      "metadata": {
        "colab": {
          "base_uri": "https://localhost:8080/"
        },
        "id": "XfuVehOuOy1k",
        "outputId": "7d63cc38-3e41-472f-f2f0-1f03b4551025"
      },
      "execution_count": null,
      "outputs": [
        {
          "output_type": "stream",
          "name": "stdout",
          "text": [
            "The virtual environment was not created successfully because ensurepip is not\n",
            "available.  On Debian/Ubuntu systems, you need to install the python3-venv\n",
            "package using the following command.\n",
            "\n",
            "    apt install python3.10-venv\n",
            "\n",
            "You may need to use sudo with that command.  After installing the python3-venv\n",
            "package, recreate your virtual environment.\n",
            "\n",
            "Failing command: /content/demoenv/bin/python3\n",
            "\n"
          ]
        }
      ]
    },
    {
      "cell_type": "code",
      "source": [
        "!apt install python3.10-venv"
      ],
      "metadata": {
        "colab": {
          "base_uri": "https://localhost:8080/"
        },
        "id": "fM8_HwFjUjMs",
        "outputId": "7e709b8a-7cfb-44e4-997d-b85324350c57"
      },
      "execution_count": null,
      "outputs": [
        {
          "output_type": "stream",
          "name": "stdout",
          "text": [
            "Reading package lists... Done\n",
            "Building dependency tree... Done\n",
            "Reading state information... Done\n",
            "The following additional packages will be installed:\n",
            "  python3-pip-whl python3-setuptools-whl\n",
            "The following NEW packages will be installed:\n",
            "  python3-pip-whl python3-setuptools-whl python3.10-venv\n",
            "0 upgraded, 3 newly installed, 0 to remove and 45 not upgraded.\n",
            "Need to get 2,473 kB of archives.\n",
            "After this operation, 2,884 kB of additional disk space will be used.\n",
            "Get:1 http://archive.ubuntu.com/ubuntu jammy-updates/universe amd64 python3-pip-whl all 22.0.2+dfsg-1ubuntu0.4 [1,680 kB]\n",
            "Get:2 http://archive.ubuntu.com/ubuntu jammy-updates/universe amd64 python3-setuptools-whl all 59.6.0-1.2ubuntu0.22.04.1 [788 kB]\n",
            "Get:3 http://archive.ubuntu.com/ubuntu jammy-updates/universe amd64 python3.10-venv amd64 3.10.12-1~22.04.5 [5,724 B]\n",
            "Fetched 2,473 kB in 1s (2,001 kB/s)\n",
            "Selecting previously unselected package python3-pip-whl.\n",
            "(Reading database ... 123594 files and directories currently installed.)\n",
            "Preparing to unpack .../python3-pip-whl_22.0.2+dfsg-1ubuntu0.4_all.deb ...\n",
            "Unpacking python3-pip-whl (22.0.2+dfsg-1ubuntu0.4) ...\n",
            "Selecting previously unselected package python3-setuptools-whl.\n",
            "Preparing to unpack .../python3-setuptools-whl_59.6.0-1.2ubuntu0.22.04.1_all.deb ...\n",
            "Unpacking python3-setuptools-whl (59.6.0-1.2ubuntu0.22.04.1) ...\n",
            "Selecting previously unselected package python3.10-venv.\n",
            "Preparing to unpack .../python3.10-venv_3.10.12-1~22.04.5_amd64.deb ...\n",
            "Unpacking python3.10-venv (3.10.12-1~22.04.5) ...\n",
            "Setting up python3-setuptools-whl (59.6.0-1.2ubuntu0.22.04.1) ...\n",
            "Setting up python3-pip-whl (22.0.2+dfsg-1ubuntu0.4) ...\n",
            "Setting up python3.10-venv (3.10.12-1~22.04.5) ...\n"
          ]
        }
      ]
    },
    {
      "cell_type": "code",
      "source": [
        "!python -m venv demoenv"
      ],
      "metadata": {
        "id": "xdCq44ntUpmO"
      },
      "execution_count": null,
      "outputs": []
    },
    {
      "cell_type": "code",
      "source": [
        "!source demoenv/bin/activate"
      ],
      "metadata": {
        "id": "o_Z4IHkWUv45"
      },
      "execution_count": null,
      "outputs": []
    },
    {
      "cell_type": "code",
      "source": [
        "import flask\n",
        "flask.__version__"
      ],
      "metadata": {
        "colab": {
          "base_uri": "https://localhost:8080/",
          "height": 513
        },
        "id": "1mYBFqR0Vt4l",
        "outputId": "29cd33ea-9f9a-41fd-e96a-e0d4acf0e795"
      },
      "execution_count": null,
      "outputs": [
        {
          "output_type": "error",
          "ename": "ImportError",
          "evalue": "cannot import name 'url_quote' from 'werkzeug.urls' (/usr/local/lib/python3.10/dist-packages/werkzeug/urls.py)",
          "traceback": [
            "\u001b[0;31m---------------------------------------------------------------------------\u001b[0m",
            "\u001b[0;31mImportError\u001b[0m                               Traceback (most recent call last)",
            "\u001b[0;32m<ipython-input-7-1639626aa17a>\u001b[0m in \u001b[0;36m<cell line: 1>\u001b[0;34m()\u001b[0m\n\u001b[0;32m----> 1\u001b[0;31m \u001b[0;32mimport\u001b[0m \u001b[0mflask\u001b[0m\u001b[0;34m\u001b[0m\u001b[0;34m\u001b[0m\u001b[0m\n\u001b[0m\u001b[1;32m      2\u001b[0m \u001b[0mflask\u001b[0m\u001b[0;34m.\u001b[0m\u001b[0m__version__\u001b[0m\u001b[0;34m\u001b[0m\u001b[0;34m\u001b[0m\u001b[0m\n",
            "\u001b[0;32m/usr/local/lib/python3.10/dist-packages/flask/__init__.py\u001b[0m in \u001b[0;36m<module>\u001b[0;34m\u001b[0m\n\u001b[1;32m      5\u001b[0m \u001b[0;34m\u001b[0m\u001b[0m\n\u001b[1;32m      6\u001b[0m \u001b[0;32mfrom\u001b[0m \u001b[0;34m.\u001b[0m \u001b[0;32mimport\u001b[0m \u001b[0mjson\u001b[0m \u001b[0;32mas\u001b[0m \u001b[0mjson\u001b[0m\u001b[0;34m\u001b[0m\u001b[0;34m\u001b[0m\u001b[0m\n\u001b[0;32m----> 7\u001b[0;31m \u001b[0;32mfrom\u001b[0m \u001b[0;34m.\u001b[0m\u001b[0mapp\u001b[0m \u001b[0;32mimport\u001b[0m \u001b[0mFlask\u001b[0m \u001b[0;32mas\u001b[0m \u001b[0mFlask\u001b[0m\u001b[0;34m\u001b[0m\u001b[0;34m\u001b[0m\u001b[0m\n\u001b[0m\u001b[1;32m      8\u001b[0m \u001b[0;32mfrom\u001b[0m \u001b[0;34m.\u001b[0m\u001b[0mapp\u001b[0m \u001b[0;32mimport\u001b[0m \u001b[0mRequest\u001b[0m \u001b[0;32mas\u001b[0m \u001b[0mRequest\u001b[0m\u001b[0;34m\u001b[0m\u001b[0;34m\u001b[0m\u001b[0m\n\u001b[1;32m      9\u001b[0m \u001b[0;32mfrom\u001b[0m \u001b[0;34m.\u001b[0m\u001b[0mapp\u001b[0m \u001b[0;32mimport\u001b[0m \u001b[0mResponse\u001b[0m \u001b[0;32mas\u001b[0m \u001b[0mResponse\u001b[0m\u001b[0;34m\u001b[0m\u001b[0;34m\u001b[0m\u001b[0m\n",
            "\u001b[0;32m/usr/local/lib/python3.10/dist-packages/flask/app.py\u001b[0m in \u001b[0;36m<module>\u001b[0;34m\u001b[0m\n\u001b[1;32m     26\u001b[0m \u001b[0;32mfrom\u001b[0m \u001b[0mwerkzeug\u001b[0m\u001b[0;34m.\u001b[0m\u001b[0mwrappers\u001b[0m \u001b[0;32mimport\u001b[0m \u001b[0mResponse\u001b[0m \u001b[0;32mas\u001b[0m \u001b[0mBaseResponse\u001b[0m\u001b[0;34m\u001b[0m\u001b[0;34m\u001b[0m\u001b[0m\n\u001b[1;32m     27\u001b[0m \u001b[0;34m\u001b[0m\u001b[0m\n\u001b[0;32m---> 28\u001b[0;31m \u001b[0;32mfrom\u001b[0m \u001b[0;34m.\u001b[0m \u001b[0;32mimport\u001b[0m \u001b[0mcli\u001b[0m\u001b[0;34m\u001b[0m\u001b[0;34m\u001b[0m\u001b[0m\n\u001b[0m\u001b[1;32m     29\u001b[0m \u001b[0;32mfrom\u001b[0m \u001b[0;34m.\u001b[0m \u001b[0;32mimport\u001b[0m \u001b[0mjson\u001b[0m\u001b[0;34m\u001b[0m\u001b[0;34m\u001b[0m\u001b[0m\n\u001b[1;32m     30\u001b[0m \u001b[0;32mfrom\u001b[0m \u001b[0;34m.\u001b[0m\u001b[0mconfig\u001b[0m \u001b[0;32mimport\u001b[0m \u001b[0mConfig\u001b[0m\u001b[0;34m\u001b[0m\u001b[0;34m\u001b[0m\u001b[0m\n",
            "\u001b[0;32m/usr/local/lib/python3.10/dist-packages/flask/cli.py\u001b[0m in \u001b[0;36m<module>\u001b[0;34m\u001b[0m\n\u001b[1;32m     16\u001b[0m \u001b[0;34m\u001b[0m\u001b[0m\n\u001b[1;32m     17\u001b[0m \u001b[0;32mfrom\u001b[0m \u001b[0;34m.\u001b[0m\u001b[0mglobals\u001b[0m \u001b[0;32mimport\u001b[0m \u001b[0mcurrent_app\u001b[0m\u001b[0;34m\u001b[0m\u001b[0;34m\u001b[0m\u001b[0m\n\u001b[0;32m---> 18\u001b[0;31m \u001b[0;32mfrom\u001b[0m \u001b[0;34m.\u001b[0m\u001b[0mhelpers\u001b[0m \u001b[0;32mimport\u001b[0m \u001b[0mget_debug_flag\u001b[0m\u001b[0;34m\u001b[0m\u001b[0;34m\u001b[0m\u001b[0m\n\u001b[0m\u001b[1;32m     19\u001b[0m \u001b[0;32mfrom\u001b[0m \u001b[0;34m.\u001b[0m\u001b[0mhelpers\u001b[0m \u001b[0;32mimport\u001b[0m \u001b[0mget_env\u001b[0m\u001b[0;34m\u001b[0m\u001b[0;34m\u001b[0m\u001b[0m\n\u001b[1;32m     20\u001b[0m \u001b[0;32mfrom\u001b[0m \u001b[0;34m.\u001b[0m\u001b[0mhelpers\u001b[0m \u001b[0;32mimport\u001b[0m \u001b[0mget_load_dotenv\u001b[0m\u001b[0;34m\u001b[0m\u001b[0;34m\u001b[0m\u001b[0m\n",
            "\u001b[0;32m/usr/local/lib/python3.10/dist-packages/flask/helpers.py\u001b[0m in \u001b[0;36m<module>\u001b[0;34m\u001b[0m\n\u001b[1;32m     14\u001b[0m \u001b[0;32mfrom\u001b[0m \u001b[0mwerkzeug\u001b[0m\u001b[0;34m.\u001b[0m\u001b[0mexceptions\u001b[0m \u001b[0;32mimport\u001b[0m \u001b[0mNotFound\u001b[0m\u001b[0;34m\u001b[0m\u001b[0;34m\u001b[0m\u001b[0m\n\u001b[1;32m     15\u001b[0m \u001b[0;32mfrom\u001b[0m \u001b[0mwerkzeug\u001b[0m\u001b[0;34m.\u001b[0m\u001b[0mrouting\u001b[0m \u001b[0;32mimport\u001b[0m \u001b[0mBuildError\u001b[0m\u001b[0;34m\u001b[0m\u001b[0;34m\u001b[0m\u001b[0m\n\u001b[0;32m---> 16\u001b[0;31m \u001b[0;32mfrom\u001b[0m \u001b[0mwerkzeug\u001b[0m\u001b[0;34m.\u001b[0m\u001b[0murls\u001b[0m \u001b[0;32mimport\u001b[0m \u001b[0murl_quote\u001b[0m\u001b[0;34m\u001b[0m\u001b[0;34m\u001b[0m\u001b[0m\n\u001b[0m\u001b[1;32m     17\u001b[0m \u001b[0;34m\u001b[0m\u001b[0m\n\u001b[1;32m     18\u001b[0m \u001b[0;32mfrom\u001b[0m \u001b[0;34m.\u001b[0m\u001b[0mglobals\u001b[0m \u001b[0;32mimport\u001b[0m \u001b[0m_app_ctx_stack\u001b[0m\u001b[0;34m\u001b[0m\u001b[0;34m\u001b[0m\u001b[0m\n",
            "\u001b[0;31mImportError\u001b[0m: cannot import name 'url_quote' from 'werkzeug.urls' (/usr/local/lib/python3.10/dist-packages/werkzeug/urls.py)",
            "",
            "\u001b[0;31m---------------------------------------------------------------------------\u001b[0;32m\nNOTE: If your import is failing due to a missing package, you can\nmanually install dependencies using either !pip or !apt.\n\nTo view examples of installing some common dependencies, click the\n\"Open Examples\" button below.\n\u001b[0;31m---------------------------------------------------------------------------\u001b[0m\n"
          ],
          "errorDetails": {
            "actions": [
              {
                "action": "open_url",
                "actionText": "Open Examples",
                "url": "/notebooks/snippets/importing_libraries.ipynb"
              }
            ]
          }
        }
      ]
    },
    {
      "cell_type": "code",
      "source": [
        "!pip install Flask==2.0.3"
      ],
      "metadata": {
        "colab": {
          "base_uri": "https://localhost:8080/",
          "height": 409
        },
        "id": "GFzU6IswVjxL",
        "outputId": "dc5eb7e1-9873-47c5-aed9-f93476778df2"
      },
      "execution_count": null,
      "outputs": [
        {
          "output_type": "stream",
          "name": "stdout",
          "text": [
            "Collecting Flask==2.0.3\n",
            "  Downloading Flask-2.0.3-py3-none-any.whl.metadata (3.8 kB)\n",
            "Requirement already satisfied: Werkzeug>=2.0 in /usr/local/lib/python3.10/dist-packages (from Flask==2.0.3) (3.0.3)\n",
            "Requirement already satisfied: Jinja2>=3.0 in /usr/local/lib/python3.10/dist-packages (from Flask==2.0.3) (3.1.4)\n",
            "Requirement already satisfied: itsdangerous>=2.0 in /usr/local/lib/python3.10/dist-packages (from Flask==2.0.3) (2.2.0)\n",
            "Requirement already satisfied: click>=7.1.2 in /usr/local/lib/python3.10/dist-packages (from Flask==2.0.3) (8.1.7)\n",
            "Requirement already satisfied: MarkupSafe>=2.0 in /usr/local/lib/python3.10/dist-packages (from Jinja2>=3.0->Flask==2.0.3) (2.1.5)\n",
            "Downloading Flask-2.0.3-py3-none-any.whl (95 kB)\n",
            "\u001b[2K   \u001b[90m━━━━━━━━━━━━━━━━━━━━━━━━━━━━━━━━━━━━━━━━\u001b[0m \u001b[32m95.6/95.6 kB\u001b[0m \u001b[31m1.1 MB/s\u001b[0m eta \u001b[36m0:00:00\u001b[0m\n",
            "\u001b[?25hInstalling collected packages: Flask\n",
            "  Attempting uninstall: Flask\n",
            "    Found existing installation: Flask 2.2.5\n",
            "    Uninstalling Flask-2.2.5:\n",
            "      Successfully uninstalled Flask-2.2.5\n",
            "Successfully installed Flask-2.0.3\n"
          ]
        },
        {
          "output_type": "display_data",
          "data": {
            "application/vnd.colab-display-data+json": {
              "pip_warning": {
                "packages": [
                  "flask"
                ]
              },
              "id": "82c9b916628e435c969cf260686c88e8"
            }
          },
          "metadata": {}
        }
      ]
    },
    {
      "cell_type": "code",
      "source": [
        "# Restart the runtime to reset the environment\n",
        "import os\n",
        "os.kill(os.getpid(), 9)\n"
      ],
      "metadata": {
        "id": "0GrkoCs9WImf"
      },
      "execution_count": null,
      "outputs": []
    },
    {
      "cell_type": "code",
      "source": [],
      "metadata": {
        "colab": {
          "base_uri": "https://localhost:8080/"
        },
        "id": "on7y6oKWXCiG",
        "outputId": "d1fc7020-d90d-40f7-bed4-82a0b75aa438"
      },
      "execution_count": null,
      "outputs": [
        {
          "output_type": "stream",
          "name": "stdout",
          "text": [
            "/bin/bash: line 1: deactivate: command not found\n"
          ]
        }
      ]
    },
    {
      "cell_type": "code",
      "source": [
        "import os\n",
        "\n",
        "# Get the current working directory\n",
        "current_path = os.getcwd()\n",
        "\n",
        "# Print the current working directory\n",
        "print(f\"The current working directory is: {current_path}\")\n"
      ],
      "metadata": {
        "colab": {
          "base_uri": "https://localhost:8080/"
        },
        "id": "UvePEx15VT7V",
        "outputId": "22baf656-d50c-4736-fa1c-4c3774e43cd4"
      },
      "execution_count": null,
      "outputs": [
        {
          "output_type": "stream",
          "name": "stdout",
          "text": [
            "The current working directory is: /content\n"
          ]
        }
      ]
    },
    {
      "cell_type": "code",
      "source": [
        "Assignment\n",
        "\n",
        "# what is the current version of numpy\n",
        "\n",
        "# myenv.\n",
        "\n",
        "# activate\n",
        "\n",
        "# install numpy --> older version of numpy\n",
        "\n",
        "# kill the env.\n",
        "\n",
        "# check the verison of numpy"
      ],
      "metadata": {
        "id": "d4AtI_YzXMVr"
      },
      "execution_count": null,
      "outputs": []
    },
    {
      "cell_type": "code",
      "source": [
        "# we learnt --> (a) config files (b) reqruiemnts (c) creating venv-->\n",
        "\n",
        "deactivate"
      ],
      "metadata": {
        "colab": {
          "base_uri": "https://localhost:8080/",
          "height": 182
        },
        "id": "Qz0QfRHrX1OH",
        "outputId": "f87d3fb5-1148-48bd-92eb-81ba38073bf4"
      },
      "execution_count": null,
      "outputs": [
        {
          "output_type": "error",
          "ename": "NameError",
          "evalue": "name 'deactivate' is not defined",
          "traceback": [
            "\u001b[0;31m---------------------------------------------------------------------------\u001b[0m",
            "\u001b[0;31mNameError\u001b[0m                                 Traceback (most recent call last)",
            "\u001b[0;32m<ipython-input-9-7b75be00fcb1>\u001b[0m in \u001b[0;36m<cell line: 3>\u001b[0;34m()\u001b[0m\n\u001b[1;32m      1\u001b[0m \u001b[0;31m# we learnt --> (a) config files (b) reqruiemnts (c) creating venv-->\u001b[0m\u001b[0;34m\u001b[0m\u001b[0;34m\u001b[0m\u001b[0m\n\u001b[1;32m      2\u001b[0m \u001b[0;34m\u001b[0m\u001b[0m\n\u001b[0;32m----> 3\u001b[0;31m \u001b[0mdeactivate\u001b[0m\u001b[0;34m\u001b[0m\u001b[0;34m\u001b[0m\u001b[0m\n\u001b[0m",
            "\u001b[0;31mNameError\u001b[0m: name 'deactivate' is not defined"
          ]
        }
      ]
    },
    {
      "cell_type": "code",
      "source": [
        "# task--> git the codes of whatever we learnt today--> repo--> module3.\n",
        "\n",
        "# share your git with me.\n",
        "\n",
        "#"
      ],
      "metadata": {
        "id": "m0krezfnbHoW"
      },
      "execution_count": null,
      "outputs": []
    }
  ]
}