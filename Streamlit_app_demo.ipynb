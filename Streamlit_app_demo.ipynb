{
  "nbformat": 4,
  "nbformat_minor": 0,
  "metadata": {
    "colab": {
      "provenance": []
    },
    "kernelspec": {
      "name": "python3",
      "display_name": "Python 3"
    },
    "language_info": {
      "name": "python"
    }
  },
  "cells": [
    {
      "cell_type": "code",
      "execution_count": 13,
      "metadata": {
        "colab": {
          "base_uri": "https://localhost:8080/"
        },
        "id": "NnQV0cySC2Mv",
        "outputId": "49dbcf9e-cf04-47c2-a128-6517a81a1ba8"
      },
      "outputs": [
        {
          "output_type": "stream",
          "name": "stdout",
          "text": [
            "Overwriting app.py\n"
          ]
        }
      ],
      "source": [
        "# suppose we want to create a calculator which can do addition\n",
        "%%writefile app.py\n",
        "\n",
        "import streamlit as st\n",
        "st.write('# Streamlit calculator')\n",
        "number1= st.number_input('number 1')\n",
        "number2 = st.number_input('number 2')\n",
        "if number2 == 0:\n",
        "  st.write('Cannot divide by zero')\n",
        "else:\n",
        "  add = number1+number2\n",
        "  mul = number1*number2\n",
        "  div = number1/number2\n",
        "  sub = number1-number2\n",
        "  st.write('# Sum is ',add)\n",
        "  st.write('# Product is ',mul)\n",
        "  st.write('# Division is ',div)\n",
        "  st.write('# Subtraction is ',sub)"
      ]
    },
    {
      "cell_type": "code",
      "source": [
        "!wget -q -O - ipv4.icanhazip.com"
      ],
      "metadata": {
        "id": "ifBuOxh8DwK1",
        "outputId": "9cab9798-18d4-47d0-91c6-69a284936587",
        "colab": {
          "base_uri": "https://localhost:8080/"
        }
      },
      "execution_count": 14,
      "outputs": [
        {
          "output_type": "stream",
          "name": "stdout",
          "text": [
            "35.231.136.15\n"
          ]
        }
      ]
    },
    {
      "cell_type": "code",
      "source": [
        "!pip install -q streamlit"
      ],
      "metadata": {
        "id": "fak5KMi8HD1K"
      },
      "execution_count": 15,
      "outputs": []
    },
    {
      "cell_type": "code",
      "source": [
        "!streamlit run app.py & npx localtunnel --port 8501"
      ],
      "metadata": {
        "colab": {
          "base_uri": "https://localhost:8080/"
        },
        "id": "aEW3CtJ3Eeh_",
        "outputId": "5b358c82-399f-4569-b124-adaa9d0c8154"
      },
      "execution_count": null,
      "outputs": [
        {
          "output_type": "stream",
          "name": "stdout",
          "text": [
            "\n",
            "Collecting usage statistics. To deactivate, set browser.gatherUsageStats to false.\n",
            "\u001b[0m\n",
            "\u001b[0m\n",
            "\u001b[34m\u001b[1m  You can now view your Streamlit app in your browser.\u001b[0m\n",
            "\u001b[0m\n",
            "\u001b[34m  Local URL: \u001b[0m\u001b[1mhttp://localhost:8501\u001b[0m\n",
            "\u001b[34m  Network URL: \u001b[0m\u001b[1mhttp://172.28.0.12:8501\u001b[0m\n",
            "\u001b[34m  External URL: \u001b[0m\u001b[1mhttp://35.231.136.15:8501\u001b[0m\n",
            "\u001b[0m\n",
            "your url is: https://fruity-donkeys-repair.loca.lt\n"
          ]
        }
      ]
    }
  ]
}