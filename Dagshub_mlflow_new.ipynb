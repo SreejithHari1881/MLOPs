{
 "cells": [
  {
   "cell_type": "code",
   "execution_count": 13,
   "id": "41357edb-686f-4172-9a19-27d875c9904e",
   "metadata": {},
   "outputs": [
    {
     "name": "stdout",
     "output_type": "stream",
     "text": [
      "Requirement already satisfied: xgboost in c:\\users\\91897\\anaconda3\\envs\\imblearn_env\\lib\\site-packages (2.1.1)\n",
      "Requirement already satisfied: numpy in c:\\users\\91897\\anaconda3\\envs\\imblearn_env\\lib\\site-packages (from xgboost) (1.23.5)\n",
      "Requirement already satisfied: scipy in c:\\users\\91897\\anaconda3\\envs\\imblearn_env\\lib\\site-packages (from xgboost) (1.13.1)\n"
     ]
    }
   ],
   "source": [
    "!pip install xgboost"
   ]
  },
  {
   "cell_type": "code",
   "execution_count": 14,
   "id": "5342efde-48bc-44d7-b18e-2abbc020d146",
   "metadata": {},
   "outputs": [],
   "source": [
    "import numpy as np\n",
    "from sklearn.datasets import make_classification\n",
    "from sklearn.model_selection import train_test_split\n",
    "from sklearn.linear_model import LogisticRegression\n",
    "from sklearn.ensemble import RandomForestClassifier\n",
    "from sklearn.tree import DecisionTreeClassifier\n",
    "from sklearn.svm import SVC\n",
    "from xgboost import XGBClassifier\n",
    "from sklearn.metrics import classification_report\n",
    "import warnings\n",
    "warnings.filterwarnings('ignore')\n"
   ]
  },
  {
   "cell_type": "code",
   "execution_count": 15,
   "id": "ec35eab4-72c6-4638-8fd1-5ffd687fd0c7",
   "metadata": {},
   "outputs": [
    {
     "data": {
      "text/plain": [
       "(array([0, 1]), array([900, 100], dtype=int64))"
      ]
     },
     "execution_count": 15,
     "metadata": {},
     "output_type": "execute_result"
    }
   ],
   "source": [
    "# Step 1: Create an imbalanced binary classification dataset\n",
    "X, y = make_classification(n_samples=1000, n_features=10, n_informative=2, n_redundant=8, \n",
    "                           weights=[0.9, 0.1], flip_y=0, random_state=42)\n",
    "\n",
    "np.unique(y, return_counts=True)"
   ]
  },
  {
   "cell_type": "code",
   "execution_count": 16,
   "id": "b5ea4d05-363b-4a53-b626-6c96b2896576",
   "metadata": {},
   "outputs": [],
   "source": [
    "# Split the dataset into training and testing sets\n",
    "X_train, X_test, y_train, y_test = train_test_split(X, y, test_size=0.3, stratify=y, random_state=42)"
   ]
  },
  {
   "cell_type": "code",
   "execution_count": 17,
   "id": "fad5b22f-daed-4b24-a1f8-0627efe42339",
   "metadata": {},
   "outputs": [
    {
     "data": {
      "text/plain": [
       "(array([0, 1]), array([619, 619], dtype=int64))"
      ]
     },
     "execution_count": 17,
     "metadata": {},
     "output_type": "execute_result"
    }
   ],
   "source": [
    "from imblearn.combine import SMOTETomek\n",
    "\n",
    "smt = SMOTETomek(random_state=42)\n",
    "X_train_res, y_train_res = smt.fit_resample(X_train, y_train)\n",
    "np.unique(y_train_res, return_counts=True)"
   ]
  },
  {
   "cell_type": "code",
   "execution_count": 20,
   "id": "bd1b91a5-cafd-4ec5-b5bf-3c535f117957",
   "metadata": {},
   "outputs": [],
   "source": [
    "models = [\n",
    "    (\n",
    "        \"Logistic Regression\", \n",
    "        {\"C\": 1, \"solver\": 'liblinear'},\n",
    "        LogisticRegression(), \n",
    "        (X_train, y_train),\n",
    "        (X_test, y_test)\n",
    "    ),\n",
    "    (\n",
    "        \"Random Forest\", \n",
    "        {\"n_estimators\": 30, \"max_depth\": 3},\n",
    "        RandomForestClassifier(), \n",
    "        (X_train, y_train),\n",
    "        (X_test, y_test),\n",
    "    ),\n",
    "    (\n",
    "        \"Decision Tree classifier\", \n",
    "        {\"n_estimators\": 19,\n",
    "        \"max_depth\": 19,\n",
    "        \"max_features\": \"sqrt\"},\n",
    "        RandomForestClassifier(), \n",
    "        (X_train, y_train),\n",
    "        (X_test, y_test)\n",
    "    ),\n",
    "    (\n",
    "        \"Support Vector Classifier\", \n",
    "        {\"C\": 1,\n",
    "        \"kernel\":\"rbf\"},\n",
    "        SVC(), \n",
    "        (X_train, y_train),\n",
    "        (X_test, y_test)\n",
    "    ),\n",
    "    (\n",
    "        \"XGBclassifier\", \n",
    "        {\"n_estimators\":19,\n",
    "        \"max_depth\":18,\n",
    "        \"learning_rate\":0.7},\n",
    "        XGBClassifier(), \n",
    "        (X_train, y_train),\n",
    "        (X_test, y_test)\n",
    "    )\n",
    "        \n",
    "]"
   ]
  },
  {
   "cell_type": "code",
   "execution_count": 21,
   "id": "1b344f95-7ef5-41aa-9d5b-71e38cfc7ee7",
   "metadata": {},
   "outputs": [],
   "source": [
    "reports = []\n",
    "\n",
    "for model_name, params, model, train_set, test_set in models:\n",
    "    X_train = train_set[0]\n",
    "    y_train = train_set[1]\n",
    "    X_test = test_set[0]\n",
    "    y_test = test_set[1]\n",
    "    \n",
    "    model.set_params(**params)\n",
    "    model.fit(X_train, y_train)\n",
    "    y_pred = model.predict(X_test)\n",
    "    report = classification_report(y_test, y_pred, output_dict=True)\n",
    "    reports.append(report)"
   ]
  },
  {
   "cell_type": "code",
   "execution_count": null,
   "id": "b4a818af-043c-410d-abdb-3a6a5d1416cc",
   "metadata": {},
   "outputs": [],
   "source": [
    "!pip install mlflow\n",
    "!pip install dagshub"
   ]
  },
  {
   "cell_type": "code",
   "execution_count": 22,
   "id": "cc616a01-58c8-4ce6-bfad-9e236cbf7953",
   "metadata": {},
   "outputs": [
    {
     "data": {
      "text/html": [
       "<pre style=\"white-space:pre;overflow-x:auto;line-height:normal;font-family:Menlo,'DejaVu Sans Mono',consolas,'Courier New',monospace\">Initialized MLflow to track repo <span style=\"color: #008000; text-decoration-color: #008000\">\"SreejithHari1881/my-first-repo\"</span>\n",
       "</pre>\n"
      ],
      "text/plain": [
       "Initialized MLflow to track repo \u001b[32m\"SreejithHari1881/my-first-repo\"\u001b[0m\n"
      ]
     },
     "metadata": {},
     "output_type": "display_data"
    },
    {
     "data": {
      "text/html": [
       "<pre style=\"white-space:pre;overflow-x:auto;line-height:normal;font-family:Menlo,'DejaVu Sans Mono',consolas,'Courier New',monospace\">Repository SreejithHari1881/my-first-repo initialized!\n",
       "</pre>\n"
      ],
      "text/plain": [
       "Repository SreejithHari1881/my-first-repo initialized!\n"
      ]
     },
     "metadata": {},
     "output_type": "display_data"
    }
   ],
   "source": [
    "\n",
    "import mlflow\n",
    "import mlflow.sklearn\n",
    "\n",
    "import dagshub\n",
    "dagshub.init(repo_owner='SreejithHari1881', repo_name='my-first-repo', mlflow=True)"
   ]
  },
  {
   "cell_type": "code",
   "execution_count": 23,
   "id": "e7ca6bf1-8260-40af-8f25-c7015312e872",
   "metadata": {},
   "outputs": [
    {
     "name": "stderr",
     "output_type": "stream",
     "text": [
      "2024/08/22 19:23:10 WARNING mlflow.models.model: Input example should be provided to infer model signature if the model signature is not provided when logging the model.\n",
      "2024/08/22 19:23:10 INFO mlflow.tracking._tracking_service.client: 🏃 View run Logistic Regression at: https://dagshub.com/SreejithHari1881/my-first-repo.mlflow/#/experiments/0/runs/697ea9db37b647849cdd98d06d93fc1c.\n",
      "2024/08/22 19:23:10 INFO mlflow.tracking._tracking_service.client: 🧪 View experiment at: https://dagshub.com/SreejithHari1881/my-first-repo.mlflow/#/experiments/0.\n",
      "2024/08/22 19:23:18 WARNING mlflow.models.model: Input example should be provided to infer model signature if the model signature is not provided when logging the model.\n",
      "2024/08/22 19:23:19 INFO mlflow.tracking._tracking_service.client: 🏃 View run Random Forest at: https://dagshub.com/SreejithHari1881/my-first-repo.mlflow/#/experiments/0/runs/4fba02c66497454dafddae94fe13ba76.\n",
      "2024/08/22 19:23:19 INFO mlflow.tracking._tracking_service.client: 🧪 View experiment at: https://dagshub.com/SreejithHari1881/my-first-repo.mlflow/#/experiments/0.\n",
      "2024/08/22 19:23:27 WARNING mlflow.models.model: Input example should be provided to infer model signature if the model signature is not provided when logging the model.\n",
      "2024/08/22 19:23:28 INFO mlflow.tracking._tracking_service.client: 🏃 View run Decision Tree classifier at: https://dagshub.com/SreejithHari1881/my-first-repo.mlflow/#/experiments/0/runs/93df893035db41998050ee835f8d0bf7.\n",
      "2024/08/22 19:23:28 INFO mlflow.tracking._tracking_service.client: 🧪 View experiment at: https://dagshub.com/SreejithHari1881/my-first-repo.mlflow/#/experiments/0.\n",
      "2024/08/22 19:23:35 WARNING mlflow.models.model: Input example should be provided to infer model signature if the model signature is not provided when logging the model.\n",
      "2024/08/22 19:23:36 INFO mlflow.tracking._tracking_service.client: 🏃 View run Support Vector Classifier at: https://dagshub.com/SreejithHari1881/my-first-repo.mlflow/#/experiments/0/runs/0ce0f062c64b4631a40c66b77b34ec08.\n",
      "2024/08/22 19:23:36 INFO mlflow.tracking._tracking_service.client: 🧪 View experiment at: https://dagshub.com/SreejithHari1881/my-first-repo.mlflow/#/experiments/0.\n",
      "2024/08/22 19:23:44 WARNING mlflow.models.model: Input example should be provided to infer model signature if the model signature is not provided when logging the model.\n",
      "2024/08/22 19:23:45 INFO mlflow.tracking._tracking_service.client: 🏃 View run XGBclassifier at: https://dagshub.com/SreejithHari1881/my-first-repo.mlflow/#/experiments/0/runs/528dfe80290540eabf489fc61d343ea3.\n",
      "2024/08/22 19:23:45 INFO mlflow.tracking._tracking_service.client: 🧪 View experiment at: https://dagshub.com/SreejithHari1881/my-first-repo.mlflow/#/experiments/0.\n"
     ]
    }
   ],
   "source": [
    "# Initialize MLflow\n",
    "mlflow.set_experiment(\"dagshub_new\")\n",
    "# mlflow.set_tracking_uri(\"http://localhost:5000\")\n",
    "\n",
    "for i, element in enumerate(models):\n",
    "    model_name = element[0]\n",
    "    params = element[1]\n",
    "    model = element[2]\n",
    "    report = reports[i]\n",
    "\n",
    "     \n",
    "    with mlflow.start_run(run_name=model_name):        \n",
    "        mlflow.log_params(params)\n",
    "        mlflow.log_metrics({\n",
    "            'accuracy': report['accuracy'],\n",
    "            'recall_class_1': report['1']['recall'],\n",
    "            'recall_class_0': report['0']['recall'],\n",
    "            'f1_score_macro': report['macro avg']['f1-score']\n",
    "        })  \n",
    "        \n",
    "        if \"XGB\" in model_name:\n",
    "            mlflow.xgboost.log_model(model, \"model\")\n",
    "        else:\n",
    "            mlflow.sklearn.log_model(model, \"model\")  "
   ]
  },
  {
   "cell_type": "code",
   "execution_count": null,
   "id": "436ef697-0e36-402c-8664-c5cf32c42dc0",
   "metadata": {},
   "outputs": [],
   "source": []
  }
 ],
 "metadata": {
  "kernelspec": {
   "display_name": "Python 3 (ipykernel)",
   "language": "python",
   "name": "python3"
  },
  "language_info": {
   "codemirror_mode": {
    "name": "ipython",
    "version": 3
   },
   "file_extension": ".py",
   "mimetype": "text/x-python",
   "name": "python",
   "nbconvert_exporter": "python",
   "pygments_lexer": "ipython3",
   "version": "3.9.19"
  }
 },
 "nbformat": 4,
 "nbformat_minor": 5
}
